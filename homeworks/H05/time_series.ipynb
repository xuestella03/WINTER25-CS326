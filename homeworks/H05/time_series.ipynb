{
 "cells": [
  {
   "cell_type": "markdown",
   "metadata": {},
   "source": [
    "# H.05 | Time Series"
   ]
  },
  {
   "cell_type": "markdown",
   "metadata": {},
   "source": [
    "\n",
    "\n",
    "You will be asked to implement the following functions in `time_series.py`: \n",
    "\n",
    "1. **local_seasonal_decomposition**: Implement the seasonal decomposition of time series. The function takes the time series data and the period as input and returns the trend, seasonal, and residual components.\n",
    "2. **difference**: Implement the differencing method to remove the trend from the time series data.\n",
    "3. **is_stationary**: Implement the Augmented Dickey-Fuller test to check if the time series data is stationary.\n",
    "4. **walk_forward_validation_arima**: Implement the walk-forward validation method for the ARIMA model. The function takes the time series data & the order of the ARIMA model, and returns the forecast.\n",
    "\n",
    "\n",
    "*Note: Our dataset is collected from \"Atmospheric CO2 from Continuous Air Samples at Mauna Loa Observatory, Hawaii, U.S.A.\" from Keeling et al (2004).*"
   ]
  },
  {
   "cell_type": "code",
   "execution_count": null,
   "metadata": {},
   "outputs": [],
   "source": [
    "%load_ext autoreload\n",
    "%autoreload 2\n",
    "\n",
    "from statsmodels import datasets as statsmodels_datasets\n",
    "import pandas as pd\n",
    "import plotly.graph_objects as go\n",
    "\n",
    "data = statsmodels_datasets.co2.load_pandas().data\n",
    "data = data.iloc[-500:]\n",
    "data = data.interpolate()\n",
    "data = data.reset_index()\n",
    "data.columns = ['date', 'co2']\n",
    "data[\"date\"] = pd.to_datetime(data[\"date\"])\n",
    "data.resample('ME', on='date').mean()\n",
    "data.set_index('date', inplace=True)\n",
    "\n",
    "train = data.iloc[:int(0.8*len(data))]\n",
    "test = data.iloc[int(0.8*len(data)):]\n",
    "\n",
    "fig = go.Figure()\n",
    "fig.add_trace(go.Scatter(x=train.index, y=train['co2'], mode='lines', name='Train & Validation Period'))\n",
    "fig.add_trace(go.Scatter(x=test.index, y=test['co2'], mode='lines', name='Test Period'))\n",
    "fig.update_layout(title='CO2 Dataset', height=600, width=1200, template='plotly_white', showlegend=True)\n",
    "fig.show()"
   ]
  },
  {
   "cell_type": "markdown",
   "metadata": {},
   "source": [
    "### Seasonal Decomposition\n",
    "\n",
    "Seasonal decomposition is a method to decompose a time series into its components: trend, seasonality, and residuals. The decomposition is additive if the components are added together, and multiplicative if they are multiplied. The decomposition is useful for understanding the underlying patterns in the time series data."
   ]
  },
  {
   "cell_type": "code",
   "execution_count": null,
   "metadata": {},
   "outputs": [],
   "source": [
    "from time_series import local_seasonal_decompose\n",
    "import plotly.graph_objects as go\n",
    "from plotly.subplots import make_subplots\n",
    "\n",
    "result = local_seasonal_decompose(train['co2'], model='additive')\n",
    "\n",
    "fig = make_subplots(rows=2, cols=2, shared_xaxes=False, shared_yaxes=False, subplot_titles=(\"Observed\", \"Trend\", \"Seasonal\", \"Residual\"))\n",
    "fig.add_trace(go.Scatter(x=result.observed.index, y=result.observed, mode='lines', marker=dict(color = \"blue\")), row=1, col=1)\n",
    "fig.add_trace(go.Scatter(x=result.trend.index, y=result.trend, mode='lines', marker=dict(color = \"blue\")), row=1, col=2)\n",
    "fig.add_trace(go.Scatter(x=result.seasonal.index, y=result.seasonal, mode='lines', marker=dict(color = \"blue\")), row=2, col=1)\n",
    "fig.add_trace(go.Scatter(x=result.resid.index, y=result.resid, mode='lines', marker=dict(color = \"blue\")), row=2, col=2)\n",
    "fig.update_layout(height=600, width=1200, title_text=\"Seasonal Decomposition\", template='plotly_white', showlegend = False)\n",
    "fig.show()"
   ]
  },
  {
   "cell_type": "markdown",
   "metadata": {},
   "source": [
    "### Stationarity & Differencing\n",
    "\n",
    "Stationarity is important for time series modeling because many time series models assume that the data is stationary. If the time series is not stationary, differencing can be used to remove trends and make the time series stationary."
   ]
  },
  {
   "cell_type": "code",
   "execution_count": null,
   "metadata": {},
   "outputs": [],
   "source": [
    "from time_series import difference, is_stationary\n",
    "\n",
    "fig = make_subplots(rows=2, cols=1, subplot_titles=(\"Original Data\", \"Differenced Data\"), shared_xaxes=True)\n",
    "fig.add_trace(go.Scatter(x=train.index, y=train['co2'], mode='lines', name=f'Original Data | Stationary = {is_stationary(train[\"co2\"], 0.05)}'), row=1, col=1)\n",
    "for i in range(1, 3):\n",
    "    differenced = difference(train['co2'], i)\n",
    "    fig.add_trace(go.Scatter(x=train.index[i:], y=differenced, mode='lines', name=f'Differenced (d={i}) | Stationary = {is_stationary(differenced, 0.05)}'), row=2, col=1)\n",
    "fig.update_layout(title='CO2 Levels After Differencing', height=600, width=1200, template='plotly_white', showlegend=True)\n",
    "fig.show()"
   ]
  },
  {
   "cell_type": "markdown",
   "metadata": {},
   "source": [
    "### ARIMA Modeling\n",
    "\n",
    "ARIMA (AutoRegressive Integrated Moving Average) is a popular time series model that combines autoregressive and moving average components. The ARIMA model is specified by three parameters: `p`, `d`, and `q`. The `p` parameter is the autoregressive order, the `d` parameter is the differencing order, and the `q` parameter is the moving average order."
   ]
  },
  {
   "cell_type": "code",
   "execution_count": null,
   "metadata": {},
   "outputs": [],
   "source": [
    "from time_series import walk_forward_validation_arima, mse\n",
    "\n",
    "arima_1_1_0_predictions = walk_forward_validation_arima(train['co2'], test['co2'], order = (1, 1, 0))\n",
    "arima_4_1_0_predictions = walk_forward_validation_arima(train['co2'], test['co2'], order = (4, 1, 0))\n",
    "\n",
    "fig = go.Figure()\n",
    "fig.add_trace(go.Scatter(x=train.index, y=train['co2'], mode='lines', name='Training / Validation Period'))\n",
    "fig.add_trace(go.Scatter(x=test.index, y=test['co2'], mode='lines', name='Testing Period'))\n",
    "fig.add_trace(go.Scatter(x=test.index, y=arima_1_1_0_predictions, mode='lines', name='ARIMA (1, 1, 0) | MSE = ' + str(round(mse(arima_1_1_0_predictions, test['co2']), 2))))\n",
    "fig.add_trace(go.Scatter(x=test.index, y=arima_4_1_0_predictions, mode='lines', name='ARIMA (4, 1, 0) | MSE = ' + str(round(mse(arima_4_1_0_predictions, test['co2']), 2))))\n",
    "fig.update_layout(height=600, width=1000, title_text=\"ARIMA Forecast\", template='plotly_white')\n",
    "fig.show()"
   ]
  },
  {
   "cell_type": "code",
   "execution_count": null,
   "metadata": {},
   "outputs": [],
   "source": []
  }
 ],
 "metadata": {
  "kernelspec": {
   "display_name": "cs326",
   "language": "python",
   "name": "python3"
  },
  "language_info": {
   "codemirror_mode": {
    "name": "ipython",
    "version": 3
   },
   "file_extension": ".py",
   "mimetype": "text/x-python",
   "name": "python",
   "nbconvert_exporter": "python",
   "pygments_lexer": "ipython3",
   "version": "3.10.16"
  }
 },
 "nbformat": 4,
 "nbformat_minor": 2
}
