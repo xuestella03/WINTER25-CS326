{
 "cells": [
  {
   "cell_type": "markdown",
   "metadata": {},
   "source": [
    "# H.04 | Clustering"
   ]
  },
  {
   "cell_type": "code",
   "execution_count": null,
   "metadata": {},
   "outputs": [],
   "source": [
    "%load_ext autoreload\n",
    "%autoreload 2\n",
    "\n",
    "import plotly.graph_objects as go\n",
    "from plotly.subplots import make_subplots\n",
    "from sklearn import datasets as sklearn_datasets"
   ]
  },
  {
   "cell_type": "markdown",
   "metadata": {},
   "source": [
    "## Unsupervised Learning\n",
    "\n",
    "In this section, you will be asked to implement the following functions in `clustering.py`:\n",
    "\n",
    "1. **k_means**: Implement the K-means algorithm. The function takes the data points and the number of clusters K as input and returns the centroids of the K clusters. The algorithm should stop when the centroids do not change anymore.\n",
    "2. **pairwise_distance**: Implement a pairwise distance function. The function takes two sets of data points as input, a distance function, and returns the pairwise distance between the two sets of data points.\n",
    "3. **local_silhouette_score**: Implement the silhouette score. The function takes the data points, the cluster labels, and the distance metric as input and returns the silhouette score of the clustering."
   ]
  },
  {
   "cell_type": "code",
   "execution_count": null,
   "metadata": {},
   "outputs": [],
   "source": [
    "from clustering import k_means, local_silhouette_score, euclidean_distance, manhattan_distance, cosine_distance\n",
    "\n",
    "# Make blobs for KMeans.\n",
    "X, y = sklearn_datasets.make_blobs(n_samples=500, centers=3, cluster_std=2, random_state=111)\n",
    "\n",
    "# Grab three (k = 3) starting points.\n",
    "start_points = X[[1, 2, 3], :]\n",
    "\n",
    "# Run KMeans with euclidean_distance.\n",
    "euclidean_distance_centers, euclidean_distance_labels = k_means(X, 3, start_points.copy(), euclidean_distance, max_iter = 10)\n",
    "euclidean_distance_score = local_silhouette_score(X, euclidean_distance_labels, metric = \"euclidean\")\n",
    "\n",
    "# Run KMeans with manhattan_distance.\n",
    "manhattan_distance_centers, manhattan_distance_labels = k_means(X, 3, start_points.copy(), manhattan_distance, max_iter = 10)\n",
    "manhattan_distance_score = local_silhouette_score(X, manhattan_distance_labels, metric = \"euclidean\")\n",
    "\n",
    "# Run KMeans with cosine_distance.\n",
    "cosine_distance_centers, cosine_distance_labels = k_means(X, 3, start_points.copy(), cosine_distance, max_iter = 10)\n",
    "cosine_distance_score = local_silhouette_score(X, cosine_distance_labels, metric = \"euclidean\")\n",
    "\n",
    "# Plot KMeans Results\n",
    "fig = make_subplots(rows=2, cols=2, subplot_titles=(\"Original Data\", f\"K Means Clustering with Euclidean Distance | Score: {euclidean_distance_score:.2f}\", f\"K Means Clustering with Manhattan Distance| Score: {manhattan_distance_score:.2f}\", f\"K Means Clustering with Cosine Distance | Score: {cosine_distance_score:.2f}\"))\n",
    "fig.add_trace(go.Scatter(x=X[:, 0], y=X[:, 1], mode='markers', name = \"Data\"), row=1, col=1)\n",
    "fig.add_trace(go.Scatter(x=start_points[:, 0], y=start_points[:, 1], mode='markers', marker=dict(size=10, color='hotpink', line=dict(width=2, color='DarkSlateGrey')), name = \"Start Points\"), row=1, col=1)\n",
    "fig.add_trace(go.Scatter(x=X[:, 0], y=X[:, 1], mode='markers', marker=dict(color=euclidean_distance_labels, colorscale='Viridis', showscale=False), name = \"Data\"), row=1, col=2)\n",
    "fig.add_trace(go.Scatter(x=euclidean_distance_centers[:, 0], y=euclidean_distance_centers[:, 1], mode='markers', marker=dict(size=10, color='hotpink', line=dict(width=2, color='DarkSlateGrey')), name = \"Centers\"), row=1, col=2)\n",
    "fig.add_trace(go.Scatter(x=X[:, 0], y=X[:, 1], mode='markers', marker=dict(color=manhattan_distance_labels, colorscale='Viridis', showscale=False), name = \"Data\"), row=2, col=1)\n",
    "fig.add_trace(go.Scatter(x=manhattan_distance_centers[:, 0], y=manhattan_distance_centers[:, 1], mode='markers', marker=dict(size=10, color='hotpink', line=dict(width=2, color='DarkSlateGrey')), name = \"Centers\"), row=2, col=1)\n",
    "fig.add_trace(go.Scatter(x=X[:, 0], y=X[:, 1], mode='markers', marker=dict(color=cosine_distance_labels, colorscale='Viridis', showscale=False), name = \"Data\"), row=2, col=2)\n",
    "fig.add_trace(go.Scatter(x=cosine_distance_centers[:, 0], y=cosine_distance_centers[:, 1], mode='markers', marker=dict(size=10, color='hotpink', line=dict(width=2, color='DarkSlateGrey')), name = \"Centers\"), row=2, col=2)\n",
    "fig.update_layout(title='K Means Clustering', height=1200, width=1600, template='plotly_white', showlegend=True, title_x=0.5)\n",
    "fig.show()"
   ]
  },
  {
   "cell_type": "markdown",
   "metadata": {},
   "source": [
    "In this section, you will also be asked to implement the following functions in `clustering.py`:\n",
    "\n",
    "1. **dbscan**: Implement the DBSCAN algorithm. The function takes the data points, the distance metric, and the parameters epsilon and min_samples as input and returns the cluster labels."
   ]
  },
  {
   "cell_type": "code",
   "execution_count": null,
   "metadata": {},
   "outputs": [],
   "source": [
    "from clustering import dbscan\n",
    "\n",
    "X, y = sklearn_datasets.make_circles(n_samples=500, noise=0.02, factor=0.5, random_state=111)\n",
    "\n",
    "# KMeans for comparison.\n",
    "start_points = X[[1, 2], :]\n",
    "centers, kmeans_labels = k_means(X, 2, start_points.copy(), euclidean_distance)\n",
    "\n",
    "# DBSCAN\n",
    "dbscan_labels = dbscan(X, eps=0.1, min_samples=5)\n",
    "\n",
    "# Plot KMeans and DBSCAN Results.\n",
    "fig = make_subplots(rows=1, cols=3, subplot_titles=(\"Original Data\", \"K-Means Clustering\", \"DBSCAN Clustering\"))\n",
    "fig.add_trace(go.Scatter(x=X[:, 0], y=X[:, 1], mode='markers', name = \"Data\"), row=1, col=1)\n",
    "fig.add_trace(go.Scatter(x=X[:, 0], y=X[:, 1], mode='markers', text = kmeans_labels, name = \"K-Means\", marker=dict(color=kmeans_labels)), row=1, col=2)\n",
    "fig.add_trace(go.Scatter(x=centers[:, 0], y=centers[:, 1], mode='markers', marker=dict(size=10, color='blue', line=dict(width=2, color='DarkSlateGrey')), name = \"KMeans Centers\"), row=1, col=2)\n",
    "fig.add_trace(go.Scatter(x=X[:, 0], y=X[:, 1], mode='markers', name = \"DBSCAN\", marker=dict(color=dbscan_labels)), row=1, col=3)\n",
    "fig.update_layout(title='K-Means vs DBScan Clustering', height=600, width=1200, template='plotly_white', showlegend=True, title_x=0.5)\n",
    "fig.show()\n"
   ]
  }
 ],
 "metadata": {
  "kernelspec": {
   "display_name": "cs326",
   "language": "python",
   "name": "python3"
  },
  "language_info": {
   "codemirror_mode": {
    "name": "ipython",
    "version": 3
   },
   "file_extension": ".py",
   "mimetype": "text/x-python",
   "name": "python",
   "nbconvert_exporter": "python",
   "pygments_lexer": "ipython3",
   "version": "3.10.16"
  }
 },
 "nbformat": 4,
 "nbformat_minor": 2
}
