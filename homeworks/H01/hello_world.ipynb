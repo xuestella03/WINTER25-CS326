{
 "cells": [
  {
   "cell_type": "markdown",
   "metadata": {},
   "source": [
    "# H.01 | Hello, World!\n",
    "\n",
    "Welcome to your first homework assignment for CS326! This notebook is a simple example of what you can expect for homework this quarter.\n",
    "\n",
    "The first cell imports the methods required from `hello_world.py`, which is located in the same folder as this notebook. "
   ]
  },
  {
   "cell_type": "code",
   "execution_count": null,
   "metadata": {},
   "outputs": [
    {
     "data": {
      "text/plain": [
       "Traceback (most recent call last):\n",
       "  File \"c:\\Users\\xuest\\.vscode\\extensions\\ms-python.python-2024.22.1-win32-x64\\python_files\\python_server.py\", line 133, in exec_user_input\n",
       "    retval = callable_(user_input, user_globals)\n",
       "  File \"<string>\", line 6, in <module>\n",
       "ModuleNotFoundError: No module named 'hello_world'\n",
       "\n"
      ]
     },
     "metadata": {},
     "output_type": "display_data"
    }
   ],
   "source": [
    "# Autoreload allows you to refresh methods from imports without re-running this cell.\n",
    "%load_ext autoreload\n",
    "%autoreload 2\n",
    "\n",
    "# Import the required functions from hello_world.py.\n",
    "from hello_world import hello_world"
   ]
  },
  {
   "cell_type": "markdown",
   "metadata": {},
   "source": [
    "## Update Method to Match Results\n",
    "\n",
    "Update the method in `hello_world.py` to print \"Hello, World!\" to the console. The exact string must match before you submit. **You do not need to edit anything in these notebooks**, all editing should be done in the python file.\n",
    "\n",
    "If you try to run a cell without updating the function, you will receive a `NotImplementedError`. Update the `hello_world` method until you get the expected output."
   ]
  },
  {
   "cell_type": "code",
   "execution_count": null,
   "metadata": {},
   "outputs": [
    {
     "data": {
      "text/plain": [
       "Traceback (most recent call last):\n",
       "  File \"c:\\Users\\xuest\\.vscode\\extensions\\ms-python.python-2024.22.1-win32-x64\\python_files\\python_server.py\", line 133, in exec_user_input\n",
       "    retval = callable_(user_input, user_globals)\n",
       "  File \"<string>\", line 1, in <module>\n",
       "NameError: name 'hello_world' is not defined\n",
       "\n"
      ]
     },
     "metadata": {},
     "output_type": "display_data"
    }
   ],
   "source": [
    "hello_world()"
   ]
  },
  {
   "cell_type": "markdown",
   "metadata": {},
   "source": [
    "## Submission\n",
    "\n",
    "Submit your solutions in `hello_world.py` to receive a grade in Canvas. This assignment allows unlimited submissions, but future homeworks will take the best of 3 scores.\n",
    "\n",
    "*Note: This option assumes you have environment variables set for `AG_USERNAME` and `AG_PASSWORD`. If you do not have these set, you can use the `--username` and `--password` options to specify your credentials.*"
   ]
  },
  {
   "cell_type": "code",
   "execution_count": null,
   "metadata": {},
   "outputs": [],
   "source": [
    "from getpass import getpass\n",
    "\n",
    "username = input(\"Username: \")\n",
    "password = getpass(\"Password: \")\n",
    "!python ../submit.py --homework hello_world.py"
   ]
  },
  {
   "cell_type": "code",
   "execution_count": null,
   "metadata": {},
   "outputs": [],
   "source": []
  }
 ],
 "metadata": {
  "kernelspec": {
   "display_name": "cs326",
   "language": "python",
   "name": "python3"
  },
  "language_info": {
   "codemirror_mode": {
    "name": "ipython",
    "version": 3
   },
   "file_extension": ".py",
   "mimetype": "text/x-python",
   "name": "python",
   "nbconvert_exporter": "python",
   "pygments_lexer": "ipython3",
   "version": "3.10.14"
  }
 },
 "nbformat": 4,
 "nbformat_minor": 2
}
